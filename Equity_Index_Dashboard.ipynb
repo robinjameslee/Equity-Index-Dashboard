{
  "nbformat": 4,
  "nbformat_minor": 0,
  "metadata": {
    "colab": {
      "provenance": [],
      "authorship_tag": "ABX9TyMmm1mQrS2gGwq0CisQ3fCL",
      "include_colab_link": true
    },
    "kernelspec": {
      "name": "python3",
      "display_name": "Python 3"
    },
    "language_info": {
      "name": "python"
    }
  },
  "cells": [
    {
      "cell_type": "markdown",
      "metadata": {
        "id": "view-in-github",
        "colab_type": "text"
      },
      "source": [
        "<a href=\"https://colab.research.google.com/github/robinjameslee/Equity-Index-Dashboard/blob/main/Equity_Index_Dashboard.ipynb\" target=\"_parent\"><img src=\"https://colab.research.google.com/assets/colab-badge.svg\" alt=\"Open In Colab\"/></a>"
      ]
    },
    {
      "cell_type": "code",
      "execution_count": 3,
      "metadata": {
        "id": "KdxvocxGuMOL"
      },
      "outputs": [],
      "source": [
        "import yfinance as yf\n",
        "import pandas as pd\n",
        "import streamlit as st\n",
        "from pandas.tseries.offsets import DateOffset"
      ]
    },
    {
      "cell_type": "code",
      "source": [
        "@st.cache_data\n",
        "def get_data(tickers, start):\n",
        "  return yf.download(tickers, start)['Close']\n",
        "\n",
        "def get_return(df, n):\n",
        "  prev_close = df[:df.index[-1] - DateOffset(months=n)].tail(1).squeeze() #Get the latest close price of the previous n-th month\n",
        "  last_close = df.tail(1).squeeze()\n",
        "  ret = last_close / prev_close - 1\n",
        "  return prev_close.name, ret"
      ],
      "metadata": {
        "colab": {
          "base_uri": "https://localhost:8080/"
        },
        "id": "NGU77ZMyx7QO",
        "outputId": "777eca05-362f-4ee7-f2be-f8da6ee4608b"
      },
      "execution_count": 9,
      "outputs": [
        {
          "output_type": "stream",
          "name": "stderr",
          "text": [
            "2023-04-20 08:30:03.709 No runtime found, using MemoryCacheStorageManager\n"
          ]
        }
      ]
    },
    {
      "cell_type": "code",
      "source": [
        "url = 'https://en.wikipedia.org/wiki/List_of_S%26P_500_companies'\n",
        "tickers = pd.read_html(url)[0].Symbol.to_list()"
      ],
      "metadata": {
        "id": "D4sDObJJxDBJ"
      },
      "execution_count": 28,
      "outputs": []
    },
    {
      "cell_type": "code",
      "source": [
        "df = get_data(tickers, '2020-01-01')"
      ],
      "metadata": {
        "colab": {
          "base_uri": "https://localhost:8080/"
        },
        "id": "zhjyohrsyGlO",
        "outputId": "c025b8ba-9989-4481-8e9b-e4d5fbc4a618"
      },
      "execution_count": 10,
      "outputs": [
        {
          "output_type": "stream",
          "name": "stderr",
          "text": [
            "2023-04-20 08:30:07.861 No runtime found, using MemoryCacheStorageManager\n"
          ]
        },
        {
          "output_type": "stream",
          "name": "stdout",
          "text": [
            "[*********************100%***********************]  503 of 503 completed\n",
            "\n",
            "2 Failed downloads:\n",
            "- BRK.B: No timezone found, symbol may be delisted\n",
            "- BF.B: No data found for this date range, symbol may be delisted\n"
          ]
        }
      ]
    },
    {
      "cell_type": "code",
      "source": [
        "st.title('Index component performance of SP500')\n",
        "n = st.number_input('Please provide the performance horizon in months: ', min_value=1, max_value=24)"
      ],
      "metadata": {
        "colab": {
          "base_uri": "https://localhost:8080/"
        },
        "id": "N3zvkiZLyRQo",
        "outputId": "5027a6c3-212e-4a6e-ceeb-828b73b4c016"
      },
      "execution_count": 11,
      "outputs": [
        {
          "output_type": "execute_result",
          "data": {
            "text/plain": [
              "DeltaGenerator()"
            ]
          },
          "metadata": {},
          "execution_count": 11
        }
      ]
    },
    {
      "cell_type": "code",
      "source": [
        "date, ret_df = get_return(df, n)\n",
        "winners, losers = ret_df.nlargest(10), ret_df.nsmallest(10)\n",
        "winners.name, losers.name = 'Winners', 'Losers'\n",
        "st.table(winners)\n",
        "st.table(losers)"
      ],
      "metadata": {
        "id": "Sw7f7aPl1fsN"
      },
      "execution_count": 23,
      "outputs": []
    },
    {
      "cell_type": "code",
      "source": [
        "winnerpick = st.selectbox('Select a winner to visualize: ', winners.index)\n",
        "st.line_chart(df[winnerpick][date:])\n",
        "\n",
        "loserpick = st.selectbox('Select a loser to visualize: ', losers.index)\n",
        "st.line_chart()\n",
        "st.line_chart(df[loserpick][date:])"
      ],
      "metadata": {
        "id": "GHfnx9L82jP1"
      },
      "execution_count": 27,
      "outputs": []
    }
  ]
}